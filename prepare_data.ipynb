{
 "cells": [
  {
   "cell_type": "code",
   "execution_count": 1,
   "metadata": {},
   "outputs": [],
   "source": [
    "import yfinance as yf\n",
    "import pandas\n",
    "msft = yf.Ticker('MSFT')\n",
    "tsla = yf.Ticker('TSLA')\n",
    "\n",
    "msft_hist = msft.history(period=\"2y\")\n",
    "tsla_hist = tsla.history(period=\"2y\")\n",
    "\n",
    "msft_hist.to_csv('msft_2y.csv')\n",
    "tsla_hist.to_csv('tsla_2y.csv')"
   ]
  },
  {
   "cell_type": "code",
   "execution_count": null,
   "metadata": {},
   "outputs": [],
   "source": []
  }
 ],
 "metadata": {
  "interpreter": {
   "hash": "e1480193b2df12513730864db0f3b3cbef15b704359880487c4ce60b2a71254f"
  },
  "kernelspec": {
   "display_name": "Python 3.8.12 64-bit ('torch': conda)",
   "language": "python",
   "name": "python3"
  },
  "language_info": {
   "codemirror_mode": {
    "name": "ipython",
    "version": 3
   },
   "file_extension": ".py",
   "mimetype": "text/x-python",
   "name": "python",
   "nbconvert_exporter": "python",
   "pygments_lexer": "ipython3",
   "version": "3.8.12"
  },
  "orig_nbformat": 4
 },
 "nbformat": 4,
 "nbformat_minor": 2
}
